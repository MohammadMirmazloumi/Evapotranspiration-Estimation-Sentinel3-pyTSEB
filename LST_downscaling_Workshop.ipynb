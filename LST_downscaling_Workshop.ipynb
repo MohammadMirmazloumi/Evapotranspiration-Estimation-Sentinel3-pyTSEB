{
 "cells": [
  {
   "cell_type": "markdown",
   "id": "4d56bed6-d2ac-4db3-984c-388354de2f83",
   "metadata": {},
   "source": [
    "# INTEGRATED USE OF MULTISOURCE REMOTE SENSING DATA FOR NATIONAL SCALE AGRICULTURAL  DROUGHT MONITORING IN KENYA\n",
    "# ADM-Kenya Workshop, Kenya, May 2024"
   ]
  },
  {
   "cell_type": "markdown",
   "id": "fce17f05-a8aa-4227-8a88-4492a9a65ee3",
   "metadata": {},
   "source": [
    "# Land Surface Temperature (LST) downscaling"
   ]
  },
  {
   "cell_type": "markdown",
   "id": "972db88b-e672-4ee2-af06-5458be8ca584",
   "metadata": {},
   "source": [
    "This Python script is designed to downscale 1-km Sentinel-3 LST images to 20-m products. The procedure is based on using spectral indices of Sentinel-2 and a random forest model to accurately calculate 20-m LST values.\n",
    "The input 1-km LST images were already preprocessed using the approach explained in the Drought Model section.\n"
   ]
  },
  {
   "cell_type": "markdown",
   "id": "e433e56b-3f65-4bf9-9973-5ca377a5a778",
   "metadata": {},
   "source": [
    "# Tools and Libraries\n",
    "\n",
    "We will use the following libraries:\n",
    "\n",
    "    NumPy: A fundamental package for scientific computing in Python.\n",
    "    scikit-learn: A library for machine learning, including models for classification, regression, ...\n",
    "    Rasterio: A library for reading and writing geospatial raster datasets.\n",
    "    GDAL: A library for working with geospatial data\n",
    "    Datetime: It supplies classes for manipulating dates and times.\n",
    "    GeoPandas: It extends the datatypes used by pandas to allow spatial operations on geometric types.                             \n",
    "    Opencv (cv2): A powerful library for working with images in Python. Here, it is used for resampling rasters.\n",
    "    OS: It provides functions for creating and removing a directory (folder)."
   ]
  },
  {
   "cell_type": "code",
   "execution_count": 1,
   "id": "1c0eb7c2",
   "metadata": {},
   "outputs": [],
   "source": [
    "import numpy as np\n",
    "# import matplotlib.pyplot as plt\n",
    "import rasterio\n",
    "from sklearn.ensemble import RandomForestRegressor\n",
    "from sklearn.metrics import mean_squared_error, mean_absolute_percentage_error, mean_absolute_error, accuracy_score, r2_score\n",
    "import gdal\n",
    "from rasterio.transform import from_origin\n",
    "from rasterio.mask import mask\n",
    "import geopandas as gpd\n",
    "from datetime import datetime\n",
    "import os\n",
    "import cv2"
   ]
  },
  {
   "cell_type": "markdown",
   "id": "a3e4d74e-ca85-4a6c-8428-2df65a48e965",
   "metadata": {},
   "source": [
    "In this project, the downscaling of Sentinel-3 SLSTR LST data was performed as follows:"
   ]
  },
  {
   "cell_type": "markdown",
   "id": "5cb60129-6fff-4261-bb9f-aa61e28d5101",
   "metadata": {},
   "source": [
    "<img src=\"LST_Fig_1.PNG\">"
   ]
  },
  {
   "cell_type": "markdown",
   "id": "5e45b7ea-7f27-4b87-bd2d-db1db7d6cdae",
   "metadata": {},
   "source": [
    "Before moving forward to next steps, it is necessary to change directories (path) of LST images (lst_path), Sentinel-2 vegetation/spectral indexes (vi_path), and where to save downscaled LST (output_path)."
   ]
  },
  {
   "cell_type": "code",
   "execution_count": 2,
   "id": "75a6512e-f7e3-438a-9da2-b209e9a19201",
   "metadata": {},
   "outputs": [],
   "source": [
    "# Your directory drive:\n",
    "\n",
    "drive = \"D\""
   ]
  },
  {
   "cell_type": "code",
   "execution_count": 5,
   "id": "7a17e38b",
   "metadata": {},
   "outputs": [],
   "source": [
    "lst_path = fr\"{drive}:\\ADM_Workshop_CCM_ET\\LST\\LST_1km\"  # Change this to the path of your folder\n",
    "#H:\\ADM-Kenya\\Results\\LST\\LST_Busia_S2_1km\n",
    "vi_path = fr\"{drive}:\\ADM_Workshop_CCM_ET\\LST\\VI_20m\"  # Change this to the path of your folder\n",
    "\n",
    "output_path = fr\"{drive}:\\ADM_Workshop_CCM_ET\\LST\\LST_20m\"  # Change this to the path of your folder\n",
    "\n",
    "LST_files = [file for file in os.listdir(lst_path) if file.endswith(\".tif\")]\n",
    "VI_files = [file for file in os.listdir(vi_path) if file.endswith(\".tif\")]"
   ]
  },
  {
   "cell_type": "code",
   "execution_count": 6,
   "id": "ee8a1cc6",
   "metadata": {},
   "outputs": [
    {
     "data": {
      "text/plain": [
       "(<open DatasetReader name='D:/ADM_Workshop_CCM_ET/LST/LST_1km/clipped_20210201.tif' mode='r'>,\n",
       " <open DatasetReader name='D:/ADM_Workshop_CCM_ET/LST/VI_20m/mVI_Image_2021-02-05_clipped.tif' mode='r'>)"
      ]
     },
     "execution_count": 6,
     "metadata": {},
     "output_type": "execute_result"
    }
   ],
   "source": [
    "LST_10km = rasterio.open(fr'{lst_path}\\\\{LST_files[0]}')\n",
    "VI_200m = rasterio.open(fr'{vi_path}\\\\{VI_files[0]}')\n",
    "\n",
    "LST_10km, VI_200m"
   ]
  },
  {
   "cell_type": "markdown",
   "id": "88a6df66-c00c-493e-b15d-1dbf80c00b6c",
   "metadata": {},
   "source": [
    "<img src=\"LST_Fig_2.PNG\">"
   ]
  },
  {
   "cell_type": "markdown",
   "id": "9eb54d37-d758-49d5-addc-d2bbfeba5296",
   "metadata": {},
   "source": [
    "After masking the pixels covered by cloud, 1-km daily LST images were prepared as input to a machine learning model (Equation 1). The model was trained using 5 spectral indices (i.e., predictors) resampled to 1-km, including NDVI, NDMI, GNDVI, EVI, and NMDI, generated by Sentinel-2 images at 20m spatial resolution. Hence, the input of model includes 1-km LST and Sentinel-2 indices. After training a random forest classifier, the model predicts 20-m cropland pixels of Sentinel-2 indices mosaic. Indeed, the trained model was employed by 1-km data to find out the relationship of LST values to indices. Afterwards, the model, structured by those relationships, was utilized to predict 20-m LST values. Additionally, the residuals of model were resampled to 20-m to correct the predictions. The following equations indicate the procedure of LST downscaling, where f is the random forest model, and 〖〖LST〗^p〗_1km and 〖〖LST〗^p〗_20m are the predicted LST values in 1-km and 20-m."
   ]
  },
  {
   "cell_type": "code",
   "execution_count": 7,
   "id": "4e4dc207",
   "metadata": {},
   "outputs": [
    {
     "name": "stdout",
     "output_type": "stream",
     "text": [
      "First LST file clipped_20210201.tif - OK. Closest VI file: mVI_Image_2021-02-05_clipped.tif. Difference: 4 days.\n",
      "Number of Bands =  1 \n",
      "Number of Horizontal Pixels =  50 \n",
      "Number of Vertical Pixels =  71 \n",
      "Bands:  <osgeo.gdal.Band; proxy of <Swig Object of type 'GDALRasterBandShadow *' at 0x000002088EBEE450> >\n",
      "5\n"
     ]
    },
    {
     "name": "stderr",
     "output_type": "stream",
     "text": [
      "C:\\Users\\mirmazloumi\\AppData\\Local\\Temp\\ipykernel_5388\\2979061185.py:61: RuntimeWarning: Mean of empty slice\n",
      "  VI_20m_upscaled_full_2[band, target_i, target_j] = np.nanmean(block)\n"
     ]
    },
    {
     "name": "stdout",
     "output_type": "stream",
     "text": [
      "First LST file clipped_20210203.tif - OK. Closest VI file: mVI_Image_2021-02-05_clipped.tif. Difference: 2 days.\n",
      "Number of Bands =  1 \n",
      "Number of Horizontal Pixels =  51 \n",
      "Number of Vertical Pixels =  72 \n",
      "Bands:  <osgeo.gdal.Band; proxy of <Swig Object of type 'GDALRasterBandShadow *' at 0x00000208FB88E5A0> >\n",
      "5\n"
     ]
    },
    {
     "name": "stderr",
     "output_type": "stream",
     "text": [
      "C:\\Users\\mirmazloumi\\AppData\\Local\\Temp\\ipykernel_5388\\2979061185.py:61: RuntimeWarning: Mean of empty slice\n",
      "  VI_20m_upscaled_full_2[band, target_i, target_j] = np.nanmean(block)\n"
     ]
    },
    {
     "name": "stdout",
     "output_type": "stream",
     "text": [
      "First LST file clipped_20210204.tif - OK. Closest VI file: mVI_Image_2021-02-05_clipped.tif. Difference: 1 days.\n",
      "Number of Bands =  1 \n",
      "Number of Horizontal Pixels =  50 \n",
      "Number of Vertical Pixels =  72 \n",
      "Bands:  <osgeo.gdal.Band; proxy of <Swig Object of type 'GDALRasterBandShadow *' at 0x000002088EBEE780> >\n",
      "5\n"
     ]
    },
    {
     "name": "stderr",
     "output_type": "stream",
     "text": [
      "C:\\Users\\mirmazloumi\\AppData\\Local\\Temp\\ipykernel_5388\\2979061185.py:61: RuntimeWarning: Mean of empty slice\n",
      "  VI_20m_upscaled_full_2[band, target_i, target_j] = np.nanmean(block)\n"
     ]
    },
    {
     "name": "stdout",
     "output_type": "stream",
     "text": [
      "First LST file clipped_20210207.tif - OK. Closest VI file: mVI_Image_2021-02-05_clipped.tif. Difference: 2 days.\n",
      "Number of Bands =  1 \n",
      "Number of Horizontal Pixels =  51 \n",
      "Number of Vertical Pixels =  71 \n",
      "Bands:  <osgeo.gdal.Band; proxy of <Swig Object of type 'GDALRasterBandShadow *' at 0x000002088FBE4BA0> >\n",
      "5\n"
     ]
    },
    {
     "name": "stderr",
     "output_type": "stream",
     "text": [
      "C:\\Users\\mirmazloumi\\AppData\\Local\\Temp\\ipykernel_5388\\2979061185.py:61: RuntimeWarning: Mean of empty slice\n",
      "  VI_20m_upscaled_full_2[band, target_i, target_j] = np.nanmean(block)\n"
     ]
    },
    {
     "name": "stdout",
     "output_type": "stream",
     "text": [
      "First LST file clipped_20210208.tif - OK. Closest VI file: mVI_Image_2021-02-10_clipped.tif. Difference: 2 days.\n",
      "Number of Bands =  1 \n",
      "Number of Horizontal Pixels =  50 \n",
      "Number of Vertical Pixels =  72 \n",
      "Bands:  <osgeo.gdal.Band; proxy of <Swig Object of type 'GDALRasterBandShadow *' at 0x000002088FBE15D0> >\n",
      "5\n"
     ]
    },
    {
     "name": "stderr",
     "output_type": "stream",
     "text": [
      "C:\\Users\\mirmazloumi\\AppData\\Local\\Temp\\ipykernel_5388\\2979061185.py:61: RuntimeWarning: Mean of empty slice\n",
      "  VI_20m_upscaled_full_2[band, target_i, target_j] = np.nanmean(block)\n"
     ]
    },
    {
     "name": "stdout",
     "output_type": "stream",
     "text": [
      "First LST file clipped_20210212.tif - OK. Closest VI file: mVI_Image_2021-02-10_clipped.tif. Difference: 2 days.\n",
      "Number of Bands =  1 \n",
      "Number of Horizontal Pixels =  50 \n",
      "Number of Vertical Pixels =  71 \n",
      "Bands:  <osgeo.gdal.Band; proxy of <Swig Object of type 'GDALRasterBandShadow *' at 0x00000208B0426D50> >\n",
      "5\n"
     ]
    },
    {
     "name": "stderr",
     "output_type": "stream",
     "text": [
      "C:\\Users\\mirmazloumi\\AppData\\Local\\Temp\\ipykernel_5388\\2979061185.py:61: RuntimeWarning: Mean of empty slice\n",
      "  VI_20m_upscaled_full_2[band, target_i, target_j] = np.nanmean(block)\n"
     ]
    },
    {
     "name": "stdout",
     "output_type": "stream",
     "text": [
      "First LST file clipped_20210215.tif - OK. Closest VI file: mVI_Image_2021-02-15_clipped.tif. Difference: 0 days.\n",
      "Number of Bands =  1 \n",
      "Number of Horizontal Pixels =  51 \n",
      "Number of Vertical Pixels =  71 \n",
      "Bands:  <osgeo.gdal.Band; proxy of <Swig Object of type 'GDALRasterBandShadow *' at 0x00000208B04260F0> >\n",
      "5\n"
     ]
    },
    {
     "name": "stderr",
     "output_type": "stream",
     "text": [
      "C:\\Users\\mirmazloumi\\AppData\\Local\\Temp\\ipykernel_5388\\2979061185.py:61: RuntimeWarning: Mean of empty slice\n",
      "  VI_20m_upscaled_full_2[band, target_i, target_j] = np.nanmean(block)\n"
     ]
    }
   ],
   "source": [
    "for v in range(0, len(LST_files)):\n",
    "    # Extract the date from the first LST file\n",
    "    first_lst_date_string = LST_files[v].split(\"_\")[1].split(\".\")[0]  # Remove the file extension\n",
    "    first_lst_date = datetime.strptime(first_lst_date_string, \"%Y%m%d\")\n",
    "\n",
    "    closest_vi_file = None\n",
    "    min_date_difference = float('inf')  # Initialize with a large value\n",
    "\n",
    "    # Iterate through VI files\n",
    "    for vi_file in VI_files:\n",
    "        # Extract the date from the VI file\n",
    "        date_string_with_extension = vi_file.split(\"_\")[2].split(\".\")[0]  # Remove the file extension\n",
    "        vi_date = datetime.strptime(date_string_with_extension, \"%Y-%m-%d\")\n",
    "\n",
    "        # Find the difference between the first LST date and the current VI date\n",
    "        date_difference = abs(first_lst_date - vi_date).days\n",
    "\n",
    "        # Check if the difference is smaller than the current minimum\n",
    "        if date_difference <= min_date_difference:\n",
    "            closest_vi_file = vi_file\n",
    "            min_date_difference = date_difference\n",
    "\n",
    "    # Check if the closest VI file has a difference less than or equal to 5 days\n",
    "    if min_date_difference <= 5:\n",
    "        print(f\"First LST file {LST_files[v]} - OK. Closest VI file: {closest_vi_file}. Difference: {min_date_difference} days.\")\n",
    "        \n",
    "        LST_1km = rasterio.open(fr'{lst_path}\\\\{LST_files[v]}')\n",
    "        VI_20m = rasterio.open(fr'{vi_path}\\\\{closest_vi_file}')\n",
    "        \n",
    "        dataset = gdal.Open(fr'{lst_path}\\\\{LST_files[v]}')\n",
    "        bands_lst = dataset.GetRasterBand(1)\n",
    "\n",
    "        print('Number of Bands = ', dataset.RasterCount, '\\nNumber of Horizontal Pixels = ', dataset.RasterXSize,  \n",
    "              '\\nNumber of Vertical Pixels = ', dataset.RasterYSize, '\\nBands: ', bands_lst)\n",
    "        \n",
    "        lst_1km = LST_1km.read(1)\n",
    "        lst_meta = LST_1km.read(1)\n",
    "        # ndvi_1km = NDVI_1km.read(1)\n",
    "        vi_20m = VI_20m.read()\n",
    "\n",
    "        lst_1km_shape = lst_1km.shape\n",
    "        num_bands_VI = vi_20m.shape[0]; print(num_bands_VI), vi_20m.shape\n",
    "\n",
    "\n",
    "        new_width = lst_1km_shape[1]\n",
    "        new_height = lst_1km_shape[0]\n",
    "        filter_size = int(vi_20m.shape[2] / new_width)\n",
    "\n",
    "        # Direct resampling while ignoring NaN values\n",
    "        VI_20m_upscaled_full_2 = np.full((num_bands_VI, new_height, new_width), np.nan)\n",
    "\n",
    "        for band in range(num_bands_VI): \n",
    "            for i in range(0, vi_20m.shape[1] - filter_size, filter_size):\n",
    "                for j in range(0, vi_20m.shape[2] - filter_size, filter_size):\n",
    "                    # Calculate the indices for the target array\n",
    "                    target_i = i // filter_size\n",
    "                    target_j = j // filter_size\n",
    "\n",
    "                    if target_i < new_height and target_j < new_width:\n",
    "                        block = vi_20m[band, i:i+filter_size, j:j+filter_size]\n",
    "                        VI_20m_upscaled_full_2[band, target_i, target_j] = np.nanmean(block)\n",
    "\n",
    "\n",
    "\n",
    "        VI_20m_upscaled_full_2.shape\n",
    "\n",
    "\n",
    "        # Check for NaN values in the slice\n",
    "        has_nan = np.isnan(VI_20m_upscaled_full_2[0,:,:])\n",
    "\n",
    "        # Print the result\n",
    "#         print(has_nan)    \n",
    "\n",
    "        lst_1km = lst_1km.astype(float)\n",
    "        lst_1km[lst_1km == -9999] = np.nan\n",
    "        lst_1km[lst_1km < 273] = np.nan\n",
    "        lst_1km.shape, np.nanmax(lst_1km), np.nanmean(lst_1km)\n",
    "\n",
    "\n",
    "        nan_mask_lst = np.isnan(lst_1km)\n",
    "\n",
    "        # Create a mask for NaN values in X_all_bands\n",
    "        nan_mask_x_all = np.isnan(VI_20m_upscaled_full_2[0])\n",
    "\n",
    "        # Combine the masks to create a final mask where both arrays have NaN values\n",
    "        final_nan_mask = np.logical_or(nan_mask_lst, nan_mask_x_all)\n",
    "\n",
    "        # Apply the final mask to both arrays\n",
    "        lst_1km[final_nan_mask] = np.nan\n",
    "        VI_20m_upscaled_full_2[:, final_nan_mask] = np.nan\n",
    "\n",
    "        lst_1km.shape, VI_20m_upscaled_full_2.shape\n",
    "\n",
    "\n",
    "        count_non_nan = np.count_nonzero(~np.isnan(VI_20m_upscaled_full_2[1,:,:]))\n",
    "#         print(count_non_nan)\n",
    "\n",
    "\n",
    "        # Flatten the 2D arrays to 1D while ignoring NaN values\n",
    "        y = lst_1km[~final_nan_mask].flatten()\n",
    "#         print(y.shape)\n",
    "        # Flatten the 2D arrays to 1D while ignoring NaN values for X\n",
    "        X_all_bands_flat = VI_20m_upscaled_full_2[:, ~final_nan_mask].T  # Transpose for proper shape\n",
    "\n",
    "#         print(X_all_bands_flat.shape)\n",
    "\n",
    "\n",
    "        # Create the regression model\n",
    "        regression_model_rf = RandomForestRegressor(n_estimators=300, n_jobs=-1)\n",
    "\n",
    "\n",
    "        # Fit the model\n",
    "        regression_model_rf.fit(X_all_bands_flat, y)\n",
    "\n",
    "\n",
    "        predictions_1km_rf = regression_model_rf.predict(X_all_bands_flat)\n",
    "        residuals_rf = y - predictions_1km_rf\n",
    "\n",
    "        residuals_rf.shape\n",
    "\n",
    "\n",
    "        VI_20m_upscaled_full_2.shape, lst_1km.shape, np.nanmax(lst_1km)\n",
    "\n",
    "\n",
    "        vi_1 = VI_20m.read(1)\n",
    "        lst_dwscaled = cv2.resize(lst_1km, (vi_1.shape[1], vi_1.shape[0]), interpolation=cv2.INTER_NEAREST)\n",
    "\n",
    "\n",
    "        nan_mask_lst_dws = np.isnan(lst_dwscaled)\n",
    "\n",
    "        # Create a mask for NaN values in X_all_bands\n",
    "        nan_mask_x_all_20m = np.isnan(vi_20m[0])\n",
    "\n",
    "        # Combine the masks to create a final mask where both arrays have NaN values\n",
    "        final_nan_mask_20m = np.logical_or(nan_mask_lst_dws, nan_mask_x_all_20m)\n",
    "\n",
    "        # Apply the final mask to both arrays\n",
    "        lst_dwscaled[final_nan_mask_20m] = np.nan\n",
    "        vi_20m[:, final_nan_mask_20m] = np.nan\n",
    "\n",
    "#         lst_dwscaled.shape, vi_20m.shape\n",
    "\n",
    "\n",
    "        vi_20m_flat = vi_20m[:, ~final_nan_mask_20m].T  # Transpose for proper shape\n",
    "#         vi_20m_flat.shape\n",
    "\n",
    "        downscaled_lst_20m = regression_model_rf.predict(vi_20m_flat) #X20m_valid_all_bands\n",
    "\n",
    "\n",
    "#         downscaled_lst_20m.shape\n",
    "\n",
    "        downscaled_lst_nan = np.empty_like(vi_1)\n",
    "\n",
    "        # Fill the array with NaN values\n",
    "        downscaled_lst_nan[:] = np.nan\n",
    "\n",
    "        # Apply the mask to downscaled_lst_20m\n",
    "        downscaled_lst_nan[~final_nan_mask_20m.reshape(vi_1.shape)] = downscaled_lst_20m\n",
    "\n",
    "#         downscaled_lst_nan.shape, downscaled_lst_20m.shape\n",
    "\n",
    "\n",
    "#         final_nan_mask.shape\n",
    "\n",
    "\n",
    "        # Create an array with NaN values of the same shape as ndvi_10m\n",
    "        res_lst_nan = np.empty_like(lst_1km)\n",
    "        res_lst_nan[:] = np.nan\n",
    "        res_lst_nan[~final_nan_mask.reshape(lst_1km.shape)] = residuals_rf\n",
    "\n",
    "\n",
    "        res_dwscaled = cv2.resize(res_lst_nan, (vi_1.shape[1], vi_1.shape[0]), interpolation=cv2.INTER_NEAREST)\n",
    "        res_dwscaled.shape\n",
    "\n",
    "\n",
    "        lst_c_20m = downscaled_lst_nan + res_dwscaled\n",
    "\n",
    "\n",
    "        # Define the output file path\n",
    "\n",
    "        output_file = fr'{output_path}\\\\{LST_files[v]}'\n",
    "        #output_file = r'H:\\ADM-Kenya\\Results\\LST\\Arid_aoi\\March2022\\LST_20m_310322_corrected.tif'\n",
    "        # Get the metadata from the NDVI raster\n",
    "        vi_metadata = VI_20m.meta\n",
    "\n",
    "        # Update the metadata for the output GeoTIFF\n",
    "        dst_metadata = {\n",
    "            'driver': 'GTiff',\n",
    "            'dtype': downscaled_lst_nan.dtype,\n",
    "            'nodata': np.nan,\n",
    "            'width': downscaled_lst_nan.shape[1],\n",
    "            'height': downscaled_lst_nan.shape[0],\n",
    "            'count': 1,  # Assuming a single-band GeoTIFF\n",
    "            'crs': vi_metadata['crs'],\n",
    "            'transform': vi_metadata['transform']\n",
    "        }\n",
    "\n",
    "        # Save the array as a GeoTIFF\n",
    "        with rasterio.open(output_file, 'w', **dst_metadata) as dst:\n",
    "            dst.write(lst_c_20m, 1)  # Assuming a single-band GeoTIFF\n",
    "    else:\n",
    "        print(f\"First LST file {LST_files[v]} - No VI file found with a difference less than or equal to 5 days.\")\n",
    "        # Continue to the next LST file\n",
    "        continue\n"
   ]
  },
  {
   "cell_type": "markdown",
   "id": "52ffabdd-be9b-428e-b60a-219af860dda3",
   "metadata": {},
   "source": [
    "<img src=\"LST_Fig_3.PNG\">"
   ]
  },
  {
   "cell_type": "code",
   "execution_count": null,
   "id": "9404745e-1301-40c1-8b5e-76cbe5e818a9",
   "metadata": {},
   "outputs": [],
   "source": []
  }
 ],
 "metadata": {
  "kernelspec": {
   "display_name": "Python 3 (ipykernel)",
   "language": "python",
   "name": "python3"
  },
  "language_info": {
   "codemirror_mode": {
    "name": "ipython",
    "version": 3
   },
   "file_extension": ".py",
   "mimetype": "text/x-python",
   "name": "python",
   "nbconvert_exporter": "python",
   "pygments_lexer": "ipython3",
   "version": "3.9.0"
  }
 },
 "nbformat": 4,
 "nbformat_minor": 5
}

{
 "cells": [
  {
   "cell_type": "markdown",
   "id": "66615bab-993a-4c5c-9e9f-753f29a3a292",
   "metadata": {},
   "source": [
    "# INTEGRATED USE OF MULTISOURCE REMOTE SENSING DATA FOR NATIONAL SCALE AGRICULTURAL  DROUGHT MONITORING IN KENYA\n",
    "# ADM-Kenya \n",
    "# High-Resolution Evaportranspiration Estimation"
   ]
  },
  {
   "cell_type": "markdown",
   "id": "5445c0c1-2775-460f-92f1-9fe833a76330",
   "metadata": {},
   "source": [
    "Based on the review of state-of-the-art methods to estimate ET using Sentinel-3 the following processing chain was developed for Land Surface Temperature (LST) downscaling and Evapotranspiration (ET) estimation."
   ]
  },
  {
   "cell_type": "markdown",
   "id": "6434d1e3-eb84-49aa-b44e-5e3130485cf6",
   "metadata": {},
   "source": [
    "<img src=\"ET_Fig_0.png\">"
   ]
  },
  {
   "cell_type": "markdown",
   "id": "71c517ce-e2b5-46ad-9f45-4dba4b6ae760",
   "metadata": {},
   "source": [
    "# Tools and Libraries\n",
    "\n",
    "We will use the following libraries:\n",
    "\n",
    "    NumPy: A fundamental package for scientific computing in Python.\n",
    "    Rasterio: A library for reading and writing geospatial raster datasets.\n",
    "    GDAL: A library for working with geospatial data\n",
    "    Datetime: It supplies classes for manipulating dates and times.\n",
    "    Opencv (cv2): A powerful library for working with images in Python. Here, it is used for resampling rasters.\n",
    "    OS: It provides functions for creating and removing a directory (folder)."
   ]
  },
  {
   "cell_type": "code",
   "execution_count": 1,
   "id": "95353c75-7c1e-4d8d-9202-bbd5c3b52cdd",
   "metadata": {},
   "outputs": [],
   "source": [
    "import numpy as np\n",
    "# import matplotlib.pyplot as plt\n",
    "import rasterio\n",
    "import gdal\n",
    "from datetime import datetime\n",
    "import os\n",
    "import cv2\n",
    "# from multiprocessing import Pool, cpu_count"
   ]
  },
  {
   "cell_type": "markdown",
   "id": "100ae878-ab75-42f3-8654-40cb635988f8",
   "metadata": {},
   "source": [
    "# Daily ET Estimation"
   ]
  },
  {
   "cell_type": "markdown",
   "id": "09d19b00-d832-48b8-b200-c84a17b35b01",
   "metadata": {},
   "source": [
    "<img src=\"ET_Fig_1.png\">"
   ]
  },
  {
   "cell_type": "code",
   "execution_count": 2,
   "id": "08366d61-9021-4b19-b6ca-502fd40b1632",
   "metadata": {},
   "outputs": [],
   "source": [
    "import pyTSEB.TSEB as TSEB "
   ]
  },
  {
   "cell_type": "markdown",
   "id": "ed628fd6-5fac-4e45-9be7-4ba8b185a803",
   "metadata": {},
   "source": [
    "# ERA 5"
   ]
  },
  {
   "cell_type": "markdown",
   "id": "cb79a243-eeef-4109-a5b6-288581216197",
   "metadata": {},
   "source": [
    "The ERA5 data are provided in three levels: pressure levels, single levels, and land. Regarding the TSEB model requirements, we extracted meteorological data from \"ERA5 hourly data on single levels from 1979 to present\". The following table consists of the utilized ERA5 parameters and their usage in TSEB-PT model. The spatial resolution of all parameters are 0.25° x 0.25°."
   ]
  },
  {
   "cell_type": "markdown",
   "id": "3c12ba55-060c-4df4-8c73-fd30de89d78d",
   "metadata": {},
   "source": [
    "<img src=\"ET_Fig_2.png\">"
   ]
  },
  {
   "cell_type": "markdown",
   "id": "ab07a639-9e60-45d1-804e-74f218cce5c9",
   "metadata": {},
   "source": [
    "Register for an account in the following link:\n",
    "\n",
    "https://cds.climate.copernicus.eu/user/register?destination=/apps/user-apps/app-c3s-daily-era5-statistics"
   ]
  },
  {
   "cell_type": "markdown",
   "id": "9b5d7bb2-0edd-4753-bc5c-7c7968ab71e2",
   "metadata": {},
   "source": [
    "After being registered, the data can be downloaded from the following link:\n",
    "\n",
    "https://cds.climate.copernicus.eu/apps/user-apps/app-c3s-daily-era5-statistics?dataset=reanalysis-era5-single-levels&product_type=reanalysis&variable_e5sl=100m_u_component_of_wind&pressure_level_e5sl=-&statistic=daily_mean&year_e5sl=2024&month=01&frequency=1-hourly&time_zone=UTC%2B00:00&grid_e5=0.25/0.25&area.lat:record:list:float=-90&area.lat:record:list:float=90&area.lon:record:list:float=-180&area.lon:record:list:float=180\n",
    "\n",
    "The platform is:"
   ]
  },
  {
   "cell_type": "markdown",
   "id": "85e47de8-a33a-4e7f-9d5c-16bd083ecfcd",
   "metadata": {},
   "source": [
    "<img src=\"ET_Fig_3.png\">"
   ]
  },
  {
   "cell_type": "markdown",
   "id": "3b12cbef-e027-4a04-9576-ae244f53d137",
   "metadata": {},
   "source": [
    "Since ERA 5 data are in NetCDF format, it would be better to have them in tif format.\n",
    "To do so, \"ERA5_cropping.ipynb\" code can be used."
   ]
  },
  {
   "cell_type": "code",
   "execution_count": 4,
   "id": "f578fa94-06ae-4157-af78-10e33ea9f633",
   "metadata": {},
   "outputs": [],
   "source": [
    "# # Folder containing NetCDF files\n",
    "# folder_path = r'H:\\ADM-Kenya\\Data\\ERA5\\Kenya_2021_S1\\ssrd'\n",
    "# # Output folder for cropped files\n",
    "# output_folder = r'H:\\ADM-Kenya\\Workshop\\ET\\ERA5\\test'\n",
    "# # Shapefile path\n",
    "# shape = gpd.read_file(r'H:\\ADM-Kenya\\Data\\Borders\\Busia\\Busia.shp')\n",
    "# # Create output folder if it doesn't exist\n",
    "# # List all NetCDF files in the folder\n",
    "# nc_files = glob.glob(os.path.join(folder_path, '*.nc'))\n",
    "# # Iterate over each NetCDF file\n",
    "# for nc_file in nc_files:\n",
    "#     # Open the NetCDF file\n",
    "#     temp2m = gdal.Open(nc_file)\n",
    "#     # Create an output path for the cropped file\n",
    "#     output_path = os.path.join(output_folder, f'cropped_{os.path.basename(nc_file)[:-3]}.tif')\n",
    "#     # Overlay the shapefile on itself to get the cropped GeoDataFrame\n",
    "#     cropped_gdf = gpd.overlay(shape, shape, how='identity')\n",
    "#     # Get the bounding box of the cropped GeoDataFrame\n",
    "#     bbox = cropped_gdf.total_bounds                     \n",
    "#     # Use GDAL Warp to crop the NetCDF file to the bounding box\n",
    "#     gdal.Warp(output_path, temp2m, outputBounds=bbox, resampleAlg=gdal.GRA_NearestNeighbour)\n",
    "#     print(f\"Raster cropped to the extent of the shapefile and saved to {output_path}\")"
   ]
  },
  {
   "cell_type": "markdown",
   "id": "d66a7f1e-54c8-4c4f-99a3-57527f93be9e",
   "metadata": {},
   "source": [
    "Later, the directories for 20m LST (lst_path), VI (vi_path), ERA5 (era5_dir), and 20-m ET estimation (output_path) tiff files should refer to corresponding folders. The following code reads all tiff files of three directories. As it’s commented, the pathes should be changed to the local directories."
   ]
  },
  {
   "cell_type": "code",
   "execution_count": 4,
   "id": "0fa9300e-bd2d-4618-a259-bfec017a51b4",
   "metadata": {},
   "outputs": [],
   "source": [
    "# Your directory drive:\n",
    "drive = \"D\""
   ]
  },
  {
   "cell_type": "code",
   "execution_count": 5,
   "id": "5ff3c1fc-cea6-4b21-8b37-2a4dd616ab45",
   "metadata": {},
   "outputs": [],
   "source": [
    "lst_path = fr\"{drive}:\\ADM_Workshop_CCM_ET\\LST\\LST_20m\"  # Change this to the path of your folder\n",
    "#H:\\ADM-Kenya\\Results\\LST\\LST_Busia_S2_1km\n",
    "vi_path = fr\"{drive}:\\ADM_Workshop_CCM_ET\\LST\\VI_20m\"  # Change this to the path of your folder\n",
    "\n",
    "LST_files = sorted([file for file in os.listdir(lst_path) if file.endswith(\".tif\")])\n",
    "VI_files = sorted([file for file in os.listdir(vi_path) if file.endswith(\".tif\")])\n",
    "era5_dir = fr'{drive}:/ADM_Workshop_CCM_ET/ET/ERA5/'\n",
    "output_path = fr\"{drive}:\\ADM_Workshop_CCM_ET\\ET\\ET_20m\"\n",
    "year = 2021"
   ]
  },
  {
   "cell_type": "code",
   "execution_count": 6,
   "id": "05065369-dd66-48b3-bd87-35635d0fe630",
   "metadata": {},
   "outputs": [
    {
     "data": {
      "text/plain": [
       "('clipped_20210201.tif',\n",
       " 'mVI_Image_2021-02-05_clipped.tif',\n",
       " 'D:/ADM_Workshop_CCM_ET/ET/ERA5/',\n",
       " 'D:\\\\ADM_Workshop_CCM_ET\\\\ET\\\\ET_20m')"
      ]
     },
     "execution_count": 6,
     "metadata": {},
     "output_type": "execute_result"
    }
   ],
   "source": [
    "LST_files[0], VI_files[0], era5_dir, output_path"
   ]
  },
  {
   "cell_type": "code",
   "execution_count": null,
   "id": "9ebd8181",
   "metadata": {},
   "outputs": [],
   "source": [
    "# Finding the closest VIs composites for LST date\n",
    "\n",
    "for v in range(0, len(LST_files)):\n",
    "    # Extract the date from the first LST file\n",
    "    first_lst_date_string = LST_files[v].split(\"_\")[1].split(\".\")[0]  # Remove the file extension\n",
    "    first_lst_date = datetime.strptime(first_lst_date_string, \"%Y%m%d\")\n",
    "    \n",
    "    print('first_lst_date_string =', first_lst_date_string)\n",
    "    print('first_lst_date =', first_lst_date)\n",
    "    \n",
    "    closest_vi_file = None\n",
    "    min_date_difference = float('inf')  # Initialize with a large value\n",
    "\n",
    "    # Iterate through VI files\n",
    "    for vi_file in VI_files:\n",
    "        # Extract the date from the VI file\n",
    "        date_string_with_extension = vi_file.split(\"_\")[2].split(\".\")[0]  # Remove the file extension\n",
    "        vi_date = datetime.strptime(date_string_with_extension, \"%Y-%m-%d\")\n",
    "\n",
    "        # print('vi_date =', vi_date)\n",
    "        \n",
    "        # Find the difference between the first LST date and the current VI date\n",
    "        date_difference = abs(first_lst_date - vi_date).days\n",
    "\n",
    "        # Check if the difference is smaller than the current minimum\n",
    "        if date_difference <= min_date_difference:\n",
    "            closest_vi_file = vi_file\n",
    "            min_date_difference = date_difference\n",
    "\n",
    "    # Check if the closest VI file has a difference less than or equal to 5 days\n",
    "    if min_date_difference <= 16:\n",
    "        print(f\"First LST file {LST_files[v]} - OK. Closest VI file: {closest_vi_file}. Difference: {min_date_difference} days.\")\n",
    "        \n",
    "        LST_20m = rasterio.open(fr'{lst_path}/{LST_files[v]}')\n",
    "        NDVI_20m = rasterio.open(fr'{vi_path}/{closest_vi_file}')\n",
    "        \n"
   ]
  },
  {
   "cell_type": "code",
   "execution_count": null,
   "id": "ccc21b4f",
   "metadata": {},
   "outputs": [],
   "source": [
    "# Calculating the day of year (doy) and day of month (dom) to get corresponding data from ERA-5\n",
    "\n",
    "doy = first_lst_date.timetuple().tm_yday\n",
    "    \n",
    "print('first_lst_date =', first_lst_date)\n",
    "print('Day of the year (DOY) =', doy)\n",
    "\n",
    "day_of_month = first_lst_date.day\n",
    "print('Day of the month =', day_of_month)\n",
    "\n",
    "month_string = first_lst_date.strftime(\"%B\")\n",
    "print('Month =', month_string)"
   ]
  },
  {
   "cell_type": "code",
   "execution_count": null,
   "id": "f79f8d5f",
   "metadata": {},
   "outputs": [],
   "source": [
    "# Reading Climate data (ERA-5)\n",
    "\n",
    "era5_dir = r'/beegfs/mirmazloumi/jupyter_playgroundpython3.10_2.0/jupyter_work/project/ERA5/2022/'\n",
    "year = 2022\n",
    "u_10_wind = gdal.Open(fr'{era5_dir}cropped_u10_{year}.tif')\n",
    "v_10_wind = gdal.Open(fr'{era5_dir}cropped_v10_{year}.tif')\n",
    "sp = gdal.Open(fr'{era5_dir}cropped_sp_{year}.tif')\n",
    "ssrd = gdal.Open(fr'{era5_dir}cropped_ssrd_{year}.tif')\n",
    "dt2 = gdal.Open(fr'{era5_dir}cropped_2md_{year}.tif')\n",
    "ta = gdal.Open(fr'{era5_dir}cropped_2mt_{year}.tif')"
   ]
  },
  {
   "cell_type": "code",
   "execution_count": null,
   "id": "5c1e4589",
   "metadata": {},
   "outputs": [],
   "source": [
    "# Making out Nan Values from LST images\n",
    "\n",
    "LST_data = LST_20m.read(1).astype(np.float32)\n",
    "print(np.min(LST_data))\n",
    "LST_data = np.ma.masked_invalid(LST_data)\n",
    "LST2 = np.ma.masked_where(LST_data < 0, LST_data)\n",
    "print(np.min(LST2))"
   ]
  },
  {
   "cell_type": "code",
   "execution_count": null,
   "id": "71cdf991",
   "metadata": {},
   "outputs": [],
   "source": [
    "# Year of data\n",
    "year = 2022\n",
    "\n",
    "# DOY input\n",
    "dom_input = doy\n",
    "doy"
   ]
  },
  {
   "cell_type": "code",
   "execution_count": null,
   "id": "a3363184",
   "metadata": {},
   "outputs": [],
   "source": [
    "# Masking invalid values\n",
    "\n",
    "NDVI_data = NDVI_20m.read(1)\n",
    "NDVI2 = np.ma.masked_invalid(NDVI_data)\n",
    "\n",
    "# LAI calculation\n",
    "\n",
    "LAI_np = 0.57*np.exp(2.33*NDVI2)\n",
    "LAI3 = np.ma.masked_where(LAI_np < 0, LAI_np)"
   ]
  },
  {
   "cell_type": "code",
   "execution_count": null,
   "id": "7d136f04",
   "metadata": {},
   "outputs": [],
   "source": [
    "# Preparing wind speed parameter\n",
    "\n",
    "u_date = u_10_wind.GetRasterBand(dom_input)\n",
    "v_date = v_10_wind.GetRasterBand(dom_input) \n",
    "u_array = u_date.ReadAsArray()\n",
    "v_array = v_date.ReadAsArray()\n",
    "\n",
    "wind_speed = (u_array**2 + u_array**2)**0.5\n",
    "wind_speed_max = np.maximum(wind_speed, 1.0)\n",
    "\n",
    "wind_speed_dwscaled = cv2.resize(wind_speed_max, (LST2.shape[1], LST2.shape[0]), interpolation=cv2.INTER_NEAREST)"
   ]
  },
  {
   "cell_type": "code",
   "execution_count": null,
   "id": "94f6cf20",
   "metadata": {},
   "outputs": [],
   "source": [
    "# Preparing surface pressure parameter\n",
    "\n",
    "sp_date = sp.GetRasterBand(dom_input)\n",
    "sp_array = sp_date.ReadAsArray()\n",
    "sp_dwscaled = cv2.resize(sp_array/100, (LST2.shape[1], LST2.shape[0]), interpolation=cv2.INTER_NEAREST)"
   ]
  },
  {
   "cell_type": "code",
   "execution_count": null,
   "id": "1ab46664",
   "metadata": {},
   "outputs": [],
   "source": [
    "# Preparing surface solar radiation downward parameter\n",
    "\n",
    "ssrd_date = ssrd.GetRasterBand(dom_input)\n",
    "ssrd_array = ssrd_date.ReadAsArray()\n",
    "ssrd_dwscaled = cv2.resize(ssrd_array/3600, (LST2.shape[1], LST2.shape[0]), interpolation=cv2.INTER_NEAREST)"
   ]
  },
  {
   "cell_type": "code",
   "execution_count": null,
   "id": "a20d9100",
   "metadata": {},
   "outputs": [],
   "source": [
    "# Preparing dewpoint temperature\n",
    "\n",
    "dt2_date = dt2.GetRasterBand(dom_input)\n",
    "dt2_array = dt2_date.ReadAsArray()\n",
    "dt2_dwscaled = cv2.resize(dt2_array, (LST2.shape[1], LST2.shape[0]), interpolation=cv2.INTER_NEAREST)"
   ]
  },
  {
   "cell_type": "code",
   "execution_count": null,
   "id": "17e95542",
   "metadata": {},
   "outputs": [],
   "source": [
    "# Preparing temperature\n",
    "\n",
    "ta_date = ta.GetRasterBand(dom_input)\n",
    "ta_array = ta_date.ReadAsArray()\n",
    "ta_dwscaled = cv2.resize(ta_array, (LST2.shape[1], LST2.shape[0]), interpolation=cv2.INTER_NEAREST)"
   ]
  },
  {
   "cell_type": "code",
   "execution_count": null,
   "id": "110f454b",
   "metadata": {},
   "outputs": [],
   "source": [
    "# Defining Atmospheric emissivity and Longwave irradiance functions\n",
    "\n",
    "def calc_emiss_atm(ea, t_a_k):\n",
    "    '''Atmospheric emissivity\n",
    "\n",
    "    Estimates the effective atmospheric emissivity for clear sky.\n",
    "\n",
    "    Parameters\n",
    "    ----------\n",
    "    ea : float\n",
    "        atmospheric vapour pressure (mb).\n",
    "    t_a_k : float\n",
    "        air temperature (Kelvin).\n",
    "\n",
    "    Returns\n",
    "    -------\n",
    "    emiss_air : float\n",
    "        effective atmospheric emissivity.\n",
    "\n",
    "    References\n",
    "    ----------\n",
    "    .. [Brutsaert1975] Brutsaert, W. (1975) On a derivable formula for long-wave radiation\n",
    "        from clear skies, Water Resour. Res., 11(5), 742-744,\n",
    "        htpp://dx.doi.org/10.1029/WR011i005p00742.'''\n",
    "\n",
    "    emiss_air = 1.24 * (ea / t_a_k)**(1. / 7.)  # Eq. 11 in [Brutsaert1975]_\n",
    "\n",
    "    return np.asarray(emiss_air)\n",
    "    \n",
    "def calc_longwave_irradiance(ea, t_a_k, p, z_T, h_C):\n",
    "    '''Longwave irradiance\n",
    "\n",
    "    Estimates longwave atmospheric irradiance from clear sky.\n",
    "    By default there is no lapse rate correction unless air temperature\n",
    "    measurement height is considerably different than canopy height, (e.g. when\n",
    "    using NWP gridded meteo data at blending height)\n",
    "\n",
    "    Parameters\n",
    "    ----------\n",
    "    ea : float\n",
    "        atmospheric vapour pressure (mb).\n",
    "    t_a_k : float\n",
    "        air temperature (K).\n",
    "    p : float\n",
    "        air pressure (mb)\n",
    "    z_T: float\n",
    "        air temperature measurement height (m), default 2 m.\n",
    "    h_C: float\n",
    "        canopy height (m), default 2 m,\n",
    "\n",
    "    Returns\n",
    "    -------\n",
    "    L_dn : float\n",
    "        Longwave atmospheric irradiance (W m-2) above the canopy\n",
    "    '''\n",
    "\n",
    "    lapse_rate = TSEB.met.calc_lapse_rate_moist(t_a_k, ea, p)\n",
    "    t_a_surface = t_a_k - lapse_rate * (h_C - z_T)\n",
    "    emisAtm = calc_emiss_atm(ea, t_a_surface)\n",
    "    L_dn = emisAtm * TSEB.met.calc_stephan_boltzmann(t_a_surface)\n",
    "    return np.asarray(L_dn)"
   ]
  },
  {
   "cell_type": "code",
   "execution_count": null,
   "id": "0a50b1fc",
   "metadata": {},
   "outputs": [],
   "source": [
    "# Sun zenith angle \n",
    "\n",
    "sza = TSEB.met.calc_theta_s(xlat = 0.2171, xlong = 34.1089, stdlng = 40, doy = doy, year = year, ftime =10.50)"
   ]
  },
  {
   "cell_type": "code",
   "execution_count": null,
   "id": "ee9049b2",
   "metadata": {},
   "outputs": [],
   "source": [
    "# Calculating water vapor pressure (ea), pressure (p), longwave atmospheric irradiance above the canopy (L_dn), ...\n",
    "#... the zero-plane displacement height, and aerodynamic roughness length\n",
    "\n",
    "ea = TSEB.met.calc_vapor_pressure(T_K=dt2_dwscaled)\n",
    "p = sp_dwscaled\n",
    "L_dn = calc_longwave_irradiance(ea = ea, t_a_k = ta_dwscaled, p = sp_dwscaled, z_T = 2, h_C = 1.2)\n",
    "d_0 = TSEB.res.calc_d_0(h_C=1.2)\n",
    "z_0M = TSEB.res.calc_z_0M(h_C=1.2)"
   ]
  },
  {
   "cell_type": "code",
   "execution_count": null,
   "id": "7b8dd09a",
   "metadata": {},
   "outputs": [],
   "source": [
    "# Fraction of difuse shortwave radiation\n",
    "\n",
    "difvis, difnir, fvis, fnir = TSEB.rad.calc_difuse_ratio(S_dn = ssrd_dwscaled, sza = sza)"
   ]
  },
  {
   "cell_type": "code",
   "execution_count": null,
   "id": "ab3d6624",
   "metadata": {},
   "outputs": [],
   "source": [
    "# Broadband incoming beam and diffuse shortwave radiations\n",
    "\n",
    "skyl = difvis * fvis + difnir * fnir\n",
    "S_dn_dir = ssrd_dwscaled * (1.0 - skyl)\n",
    "S_dn_dif = ssrd_dwscaled * skyl"
   ]
  },
  {
   "cell_type": "code",
   "execution_count": null,
   "id": "1db62a1c",
   "metadata": {},
   "outputs": [],
   "source": [
    "# Canopy and Soil spectra from https://github.com/hectornieto/pyTSEB/blob/master/Config_LocalImage.txt\n",
    "\n",
    "emis_C=0.98 # leaf emissivity\n",
    "emis_S=0.95 # soil emissivity\n",
    "\n",
    "# Leaf spectral properties:{rho_vis_C: visible reflectance, tau_vis_C: visible transmittance, rho_nir_C: NIR reflectance, tau_nir_C: NIR transmittance}\n",
    "rho_vis_C=np.full(LAI3.shape, 0.05, np.float32)\n",
    "tau_vis_C=np.full(LAI3.shape, 0.08, np.float32)\n",
    "rho_nir_C=np.full(LAI3.shape, 0.32, np.float32)\n",
    "tau_nir_C=np.full(LAI3.shape, 0.33, np.float32) \n",
    "\n",
    "# Soil spectral properties:{rho_vis_S: visible reflectance, rho_nir_S: NIR reflectance}\n",
    "rho_vis_S=np.full(LAI3.shape, 0.07, np.float32)\n",
    "rho_nir_S=np.full(LAI3.shape, 0.25, np.float32)"
   ]
  },
  {
   "cell_type": "code",
   "execution_count": null,
   "id": "606f0002",
   "metadata": {},
   "outputs": [],
   "source": [
    "# Net shortwave radiation\n",
    "\n",
    "Sn_C, Sn_S = TSEB.rad.calc_Sn_Campbell(lai = LAI3, sza = sza, S_dn_dir = S_dn_dir, S_dn_dif = S_dn_dif, fvis = fvis,\n",
    "                                       fnir = fnir, rho_leaf_vis = rho_vis_C, tau_leaf_vis = tau_vis_C, rho_leaf_nir = rho_nir_C, \n",
    "                                       tau_leaf_nir = tau_nir_C, rsoilv = rho_vis_S, rsoiln = rho_nir_S, x_LAD=1, LAI_eff=None)"
   ]
  },
  {
   "cell_type": "code",
   "execution_count": null,
   "id": "84bb1fe8",
   "metadata": {},
   "outputs": [],
   "source": [
    "# z_0M and d\n",
    "\n",
    "z_0M, d = TSEB.res.calc_roughness(LAI=np.nanmean(LAI3), h_C=1.2, w_C=1, landcover=11, f_c=None)\n",
    "z_0M_array = np.full(LAI3.shape, z_0M)\n",
    "d_array = np.full(LAI3.shape, d)"
   ]
  },
  {
   "cell_type": "code",
   "execution_count": null,
   "id": "9bd87c5c",
   "metadata": {},
   "outputs": [],
   "source": [
    "# Input Parameters to TSEB_PT\n",
    "#   ----------\n",
    "Tr_K = LST2\n",
    "# float. Radiometric composite temperature (Kelvin).\n",
    "vza = 0\n",
    "# float. View Zenith Angle (degrees).\n",
    "T_A_K = ta_dwscaled\n",
    "# float. Air temperature (Kelvin).\n",
    "u =  wind_speed_dwscaled  ## ***ERA5 two para\n",
    "# float. Wind speed above the canopy (m s-1).\n",
    "ea = ea\n",
    "# float. Water vapour pressure above the canopy (mb).\n",
    "p = sp_dwscaled \n",
    "# float. Atmospheric pressure (mb), use 1013 mb by default.\n",
    "Sn_C = Sn_C\n",
    "# float. Canopy net shortwave radiation (W m-2).\n",
    "Sn_S =  Sn_S\n",
    "# float. Soil net shortwave radiation (W m-2).\n",
    "L_dn = L_dn\n",
    "# float. Downwelling longwave radiation (W m-2).\n",
    "LAI = LAI3\n",
    "# float. Effective Leaf Area Index (m2 m-2).\n",
    "h_C = 1.2 \n",
    "# float. Canopy height (m).\n",
    "emis_C = 0.98\n",
    "# float. Leaf emissivity.\n",
    "emis_S = 0.95\n",
    "# float. Soil emissivity.\n",
    "z_0M = z_0M_array \n",
    "# float. Aerodynamic surface roughness length for momentum transfer (m).\n",
    "d_0 = d_array \n",
    "# float. Zero-plane displacement height (m).\n",
    "z_u = 10 \n",
    "# float. Height of measurement of windspeed (m).\n",
    "z_T = 2 \n",
    "# float. Height of measurement of air temperature (m).\n",
    "# leaf_width : \n",
    "# float, optional average/effective leaf width (m).\n",
    "z0_soil = 0.01    #optional\n",
    "# float, bare soil aerodynamic roughness length (m).\n",
    "alpha_PT = 1.26  #optional\n",
    "#  float, optional. Priestley Taylor coeffient for canopy potential transpiration, use 1.26 by default.\n",
    "x_LAD = 1        #optional\n",
    "# float. Campbell 1990 leaf inclination distribution function chi parameter.\n",
    "f_c = 1          #optional\n",
    "#float. Fractional cover.\n",
    "f_g = 1        # optional\n",
    "# float. Fraction of vegetation that is green.\n",
    "w_C = 1       #optional\n",
    "# float. Canopy width to height ratio."
   ]
  },
  {
   "cell_type": "code",
   "execution_count": null,
   "id": "a6898e25",
   "metadata": {},
   "outputs": [],
   "source": [
    "# ET estimation\n",
    "\n",
    "output = TSEB.TSEB_PT(Tr_K, vza, T_A_K, u, ea, p, Sn_C, Sn_S, L_dn, LAI3, h_C, emis_C, emis_S, \n",
    "                      z_0M, d_0, z_u, z_T, resistance_form=None, calcG_params=None, const_L=None, \n",
    "                      kB=0.0, massman_profile=None, verbose=True)"
   ]
  },
  {
   "cell_type": "code",
   "execution_count": null,
   "id": "41433b29",
   "metadata": {},
   "outputs": [],
   "source": [
    "et_daily = TSEB.met.flux_2_evaporation(output[6], t_k=T_A_K, time_domain=24)"
   ]
  },
  {
   "cell_type": "code",
   "execution_count": null,
   "id": "bd0f3d1f",
   "metadata": {},
   "outputs": [],
   "source": [
    "# Exporting actual ET as GeoTiff files        \n",
    "        \n",
    "output_file = f'/beegfs/mirmazloumi/jupyter_playgroundpython3.10_2.0/jupyter_work/project/ET_results/ET_2022_G10_Monthly/actual_ET_G10_20m_monthly_{first_lst_date_string}.tif'\n",
    "# Busia: r'H:\\ADM-Kenya\\Results\\ET\\Busia_June2021\\ET_Busia_20m_03062021_mm.tif'\n",
    "# arid_aoi: \n",
    "# Get the metadata from the NDVI raster\n",
    "LST_metadata = LST_20m.meta\n",
    "\n",
    "et_daily_p = np.ma.masked_where(et_daily < 0, et_daily)\n",
    "et_daily_p = et_daily_p.filled(np.nan)  # Fill masked values with np.nan\n",
    "\n",
    "# Create the destination metadata\n",
    "dst_metadata = {\n",
    "    'driver': 'GTiff',\n",
    "    'dtype': et_daily_p.dtype,  # Use the dtype of the masked array\n",
    "    'nodata': np.nan,  # Set nodata to np.nan\n",
    "    'width': et_daily_p.shape[1],\n",
    "    'height': et_daily_p.shape[0],\n",
    "    'count': 1,  # Assuming a single-band GeoTIFF\n",
    "    'crs': LST_metadata['crs'],\n",
    "    'transform': LST_metadata['transform']\n",
    "}\n",
    "\n",
    "# Save the array as a GeoTIFF\n",
    "with rasterio.open(output_file, 'w', **dst_metadata) as dst:\n",
    "    dst.write(et_daily_p, 1)"
   ]
  }
 ],
 "metadata": {
  "kernelspec": {
   "display_name": "Python 3 (ipykernel)",
   "language": "python",
   "name": "python3"
  },
  "language_info": {
   "codemirror_mode": {
    "name": "ipython",
    "version": 3
   },
   "file_extension": ".py",
   "mimetype": "text/x-python",
   "name": "python",
   "nbconvert_exporter": "python",
   "pygments_lexer": "ipython3",
   "version": "3.9.0"
  }
 },
 "nbformat": 4,
 "nbformat_minor": 5
}
